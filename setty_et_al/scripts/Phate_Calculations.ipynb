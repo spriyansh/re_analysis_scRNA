{
 "cells": [
  {
   "cell_type": "code",
   "execution_count": null,
   "id": "fd018af1",
   "metadata": {},
   "outputs": [
    {
     "name": "stdout",
     "output_type": "stream",
     "text": [
      "Completed for rep1\n"
     ]
    }
   ],
   "source": [
    "# Load the required libraries\n",
    "import scanpy as sc\n",
    "import phate as ph\n",
    "import os\n",
    "import sys\n",
    "import numpy as np\n",
    "import re\n",
    "import matplotlib.pyplot as plt\n",
    "\n",
    "# Declare Paths\n",
    "inPrefix = \"../data/output/Azimuth/\"\n",
    "outPrefix = \"../data/output/PHATE/\"\n",
    "os.makedirs(outPrefix, exist_ok=True)\n",
    "\n",
    "# List all files in the directory\n",
    "avail_files = os.listdir(inPrefix)\n",
    "\n",
    "# Subset the AnnData Files\n",
    "avail_files = [name for name in avail_files if re.search('.h5ad', name)]\n",
    "\n",
    "# Divide\n",
    "rep1_names = [name for name in avail_files if re.search('rep1', name)] # Male-35\n",
    "rep2_names = [name for name in avail_files if re.search('rep2', name)] # Female-28\n",
    "rep3_names = [name for name in avail_files if re.search('rep3', name)] # Female-19\n",
    "\n",
    "# Set up Phate\n",
    "phate_operator = ph.PHATE(n_jobs=4, n_components=3, verbose=False)\n",
    "\n",
    "# Create a list for traversal\n",
    "file_name_list = list([rep1_names, rep2_names, rep3_names])\n",
    "\n",
    "# Iteratively Compute Phate\n",
    "for i in file_name_list:\n",
    "    \n",
    "    # Typecast\n",
    "    i = \"\".join(i)\n",
    "    \n",
    "    # Select the Name of the Replicate\n",
    "    parts = i.split(\"_\")\n",
    "    j = parts[0] \n",
    "    \n",
    "    if j == \"rep1\":\n",
    "        individual = \"1\"\n",
    "        age = \"35\"\n",
    "        sex = \"Male\"\n",
    "    elif j == \"rep2\":\n",
    "        individual = \"2\"\n",
    "        age = \"28\"\n",
    "        sex = \"Female\"\n",
    "    elif j == \"rep3\":\n",
    "        individual = \"3\"\n",
    "        age = \"19\"\n",
    "        sex = \"Female\"\n",
    "    \n",
    "    # Read the input file with prefix\n",
    "    file_name = inPrefix + i\n",
    "    annDataI = sc.read_h5ad(file_name)\n",
    "    \n",
    "    # Compute Phate\n",
    "    phateI = phate_operator.fit_transform(annDataI)\n",
    "    \n",
    "    # Add Phate dimensions to the Object\n",
    "    annDataI.obsm['PHATE'] = phateI\n",
    "    \n",
    "    # Plotting\n",
    "    sc.pl.embedding(annDataI, basis='PHATE', color='cell.type', show=False)\n",
    "\n",
    "    # Add custom Title\n",
    "    plt.title(\"Individual: \" + individual + \" Age: \" + age + \" Sex: \"+ sex)\n",
    "    \n",
    "    # Save the Plot\n",
    "    file_name = outPrefix + j + \"_PHATE2.png\"\n",
    "    plt.savefig(file_name, dpi=1400, bbox_inches='tight')\n",
    "    plt.close()\n",
    "    \n",
    "    # Write\n",
    "    file_name = outPrefix + j + \"_PHATE3.tsv\"\n",
    "    custom_header = \"PHATE1\\tPHATE2\\tPHATE3\"\n",
    "    np.savetxt(file_name, phateI, delimiter=\"\\t\", fmt = '%e', header = custom_header)\n",
    "    \n",
    "    # Validate \n",
    "    print(\"Completed for \" + j)"
   ]
  },
  {
   "cell_type": "markdown",
   "id": "d01a6b20",
   "metadata": {},
   "source": [
    "---"
   ]
  }
 ],
 "metadata": {
  "kernelspec": {
   "display_name": "Python 3 (ipykernel)",
   "language": "python",
   "name": "python3"
  },
  "language_info": {
   "codemirror_mode": {
    "name": "ipython",
    "version": 3
   },
   "file_extension": ".py",
   "mimetype": "text/x-python",
   "name": "python",
   "nbconvert_exporter": "python",
   "pygments_lexer": "ipython3",
   "version": "3.7.0"
  }
 },
 "nbformat": 4,
 "nbformat_minor": 5
}
